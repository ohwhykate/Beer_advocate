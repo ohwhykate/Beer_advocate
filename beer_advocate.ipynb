{
  "cells": [
    {
      "cell_type": "markdown",
      "metadata": {
        "id": "gfVTl8O4-hOR"
      },
      "source": [
        "<h1 style=\"text-align: center; color: #0066CC;\">About dataset</h1>"
      ]
    },
    {
      "cell_type": "markdown",
      "metadata": {
        "id": "M99Ulec5-wcu"
      },
      "source": [
        "This dataset provides key resources:\n",
        "- **beer_reviews.csv**: Contains the training data with property features\n",
        "[Dataset link](https://data.world/socialmediadata/beeradvocate)\n",
        "\n",
        "This dataset consists of beer reviews from Beeradvocate. The data span a period of more than 10 years, including all ~1.5 million reviews up to November 2011. Each review includes ratings in terms of five \"aspects\": appearance, aroma, palate, taste, and overall impression. Reviews include product and user information, followed by each of these five ratings, and a plaintext review. We also have reviews from ratebeer.\n",
        "\n",
        "The columns in this dataset are:\n",
        "* brewery_id\n",
        "* brewery_name\n",
        "* review_time\n",
        "* review_overall\n",
        "* review_aroma\n",
        "* review_appearance\n",
        "* review_profilename\n",
        "* beer_style\n",
        "* review_palate\n",
        "* review_taste\n",
        "* beer_name\n",
        "* beer_abv\n",
        "* beer_beerid\n"
      ]
    },
    {
      "cell_type": "markdown",
      "metadata": {
        "id": "tkpeWNcyDB_a"
      },
      "source": [
        "<h2 style=\"text-align: center; color: #0066CC;\">Aims and objective of project</h2>"
      ]
    },
    {
      "cell_type": "markdown",
      "metadata": {},
      "source": [
        "Aim of the project is to anwser a 4 question: \n",
        "* Which brewery produces the strongest beers by abv ?\n",
        "\n",
        "* If you had to pick 3 beers to recommend to someone, how would you approach the problem ?\n",
        "\n",
        "* What are the factors that impacts the quality of beer the most ?\n",
        "\n",
        "* I enjoy a beer which aroma and appearance matches the beer style. What beer should I buy ?"
      ]
    },
    {
      "cell_type": "markdown",
      "metadata": {
        "id": "u6yFOvUoAw3M"
      },
      "source": [
        "# Import libraries and Initial Data Exploration"
      ]
    },
    {
      "cell_type": "markdown",
      "metadata": {
        "id": "-iMFjM4_A5yy"
      },
      "source": [
        "## Import libraries"
      ]
    },
    {
      "cell_type": "code",
      "execution_count": 102,
      "metadata": {
        "id": "zgdCujmR83K4"
      },
      "outputs": [],
      "source": [
        "import numpy as np\n",
        "import pandas as pd\n",
        "import seaborn as sns\n",
        "import matplotlib.pyplot as plt"
      ]
    },
    {
      "cell_type": "markdown",
      "metadata": {
        "id": "_FjLX7CKBKiZ"
      },
      "source": [
        "## Exploring dataset"
      ]
    },
    {
      "cell_type": "code",
      "execution_count": 103,
      "metadata": {
        "id": "z2aElg_RBM8l"
      },
      "outputs": [],
      "source": [
        "# Load the dataset\n",
        "df = pd.read_csv('beer_reviews.csv')"
      ]
    },
    {
      "cell_type": "code",
      "execution_count": 104,
      "metadata": {
        "colab": {
          "base_uri": "https://localhost:8080/",
          "height": 330
        },
        "id": "k5iWvvTiBdKV",
        "outputId": "9c6d4a41-3e0c-439b-896b-ea11184261d8"
      },
      "outputs": [
        {
          "data": {
            "text/html": [
              "<div>\n",
              "<style scoped>\n",
              "    .dataframe tbody tr th:only-of-type {\n",
              "        vertical-align: middle;\n",
              "    }\n",
              "\n",
              "    .dataframe tbody tr th {\n",
              "        vertical-align: top;\n",
              "    }\n",
              "\n",
              "    .dataframe thead th {\n",
              "        text-align: right;\n",
              "    }\n",
              "</style>\n",
              "<table border=\"1\" class=\"dataframe\">\n",
              "  <thead>\n",
              "    <tr style=\"text-align: right;\">\n",
              "      <th></th>\n",
              "      <th>brewery_id</th>\n",
              "      <th>brewery_name</th>\n",
              "      <th>review_time</th>\n",
              "      <th>review_overall</th>\n",
              "      <th>review_aroma</th>\n",
              "      <th>review_appearance</th>\n",
              "      <th>review_profilename</th>\n",
              "      <th>beer_style</th>\n",
              "      <th>review_palate</th>\n",
              "      <th>review_taste</th>\n",
              "      <th>beer_name</th>\n",
              "      <th>beer_abv</th>\n",
              "      <th>beer_beerid</th>\n",
              "    </tr>\n",
              "  </thead>\n",
              "  <tbody>\n",
              "    <tr>\n",
              "      <th>0</th>\n",
              "      <td>10325</td>\n",
              "      <td>Vecchio Birraio</td>\n",
              "      <td>1234817823</td>\n",
              "      <td>1.5</td>\n",
              "      <td>2.0</td>\n",
              "      <td>2.5</td>\n",
              "      <td>stcules</td>\n",
              "      <td>Hefeweizen</td>\n",
              "      <td>1.5</td>\n",
              "      <td>1.5</td>\n",
              "      <td>Sausa Weizen</td>\n",
              "      <td>5.0</td>\n",
              "      <td>47986</td>\n",
              "    </tr>\n",
              "    <tr>\n",
              "      <th>1</th>\n",
              "      <td>10325</td>\n",
              "      <td>Vecchio Birraio</td>\n",
              "      <td>1235915097</td>\n",
              "      <td>3.0</td>\n",
              "      <td>2.5</td>\n",
              "      <td>3.0</td>\n",
              "      <td>stcules</td>\n",
              "      <td>English Strong Ale</td>\n",
              "      <td>3.0</td>\n",
              "      <td>3.0</td>\n",
              "      <td>Red Moon</td>\n",
              "      <td>6.2</td>\n",
              "      <td>48213</td>\n",
              "    </tr>\n",
              "    <tr>\n",
              "      <th>2</th>\n",
              "      <td>10325</td>\n",
              "      <td>Vecchio Birraio</td>\n",
              "      <td>1235916604</td>\n",
              "      <td>3.0</td>\n",
              "      <td>2.5</td>\n",
              "      <td>3.0</td>\n",
              "      <td>stcules</td>\n",
              "      <td>Foreign / Export Stout</td>\n",
              "      <td>3.0</td>\n",
              "      <td>3.0</td>\n",
              "      <td>Black Horse Black Beer</td>\n",
              "      <td>6.5</td>\n",
              "      <td>48215</td>\n",
              "    </tr>\n",
              "    <tr>\n",
              "      <th>3</th>\n",
              "      <td>10325</td>\n",
              "      <td>Vecchio Birraio</td>\n",
              "      <td>1234725145</td>\n",
              "      <td>3.0</td>\n",
              "      <td>3.0</td>\n",
              "      <td>3.5</td>\n",
              "      <td>stcules</td>\n",
              "      <td>German Pilsener</td>\n",
              "      <td>2.5</td>\n",
              "      <td>3.0</td>\n",
              "      <td>Sausa Pils</td>\n",
              "      <td>5.0</td>\n",
              "      <td>47969</td>\n",
              "    </tr>\n",
              "    <tr>\n",
              "      <th>4</th>\n",
              "      <td>1075</td>\n",
              "      <td>Caldera Brewing Company</td>\n",
              "      <td>1293735206</td>\n",
              "      <td>4.0</td>\n",
              "      <td>4.5</td>\n",
              "      <td>4.0</td>\n",
              "      <td>johnmichaelsen</td>\n",
              "      <td>American Double / Imperial IPA</td>\n",
              "      <td>4.0</td>\n",
              "      <td>4.5</td>\n",
              "      <td>Cauldron DIPA</td>\n",
              "      <td>7.7</td>\n",
              "      <td>64883</td>\n",
              "    </tr>\n",
              "  </tbody>\n",
              "</table>\n",
              "</div>"
            ],
            "text/plain": [
              "   brewery_id             brewery_name  review_time  review_overall  \\\n",
              "0       10325          Vecchio Birraio   1234817823             1.5   \n",
              "1       10325          Vecchio Birraio   1235915097             3.0   \n",
              "2       10325          Vecchio Birraio   1235916604             3.0   \n",
              "3       10325          Vecchio Birraio   1234725145             3.0   \n",
              "4        1075  Caldera Brewing Company   1293735206             4.0   \n",
              "\n",
              "   review_aroma  review_appearance review_profilename  \\\n",
              "0           2.0                2.5            stcules   \n",
              "1           2.5                3.0            stcules   \n",
              "2           2.5                3.0            stcules   \n",
              "3           3.0                3.5            stcules   \n",
              "4           4.5                4.0     johnmichaelsen   \n",
              "\n",
              "                       beer_style  review_palate  review_taste  \\\n",
              "0                      Hefeweizen            1.5           1.5   \n",
              "1              English Strong Ale            3.0           3.0   \n",
              "2          Foreign / Export Stout            3.0           3.0   \n",
              "3                 German Pilsener            2.5           3.0   \n",
              "4  American Double / Imperial IPA            4.0           4.5   \n",
              "\n",
              "                beer_name  beer_abv  beer_beerid  \n",
              "0            Sausa Weizen       5.0        47986  \n",
              "1                Red Moon       6.2        48213  \n",
              "2  Black Horse Black Beer       6.5        48215  \n",
              "3              Sausa Pils       5.0        47969  \n",
              "4           Cauldron DIPA       7.7        64883  "
            ]
          },
          "execution_count": 104,
          "metadata": {},
          "output_type": "execute_result"
        }
      ],
      "source": [
        "# Head of the dataset\n",
        "df.head()"
      ]
    },
    {
      "cell_type": "code",
      "execution_count": 105,
      "metadata": {
        "colab": {
          "base_uri": "https://localhost:8080/"
        },
        "id": "gCeqqTlTBl5c",
        "outputId": "e74bc22a-5e9e-4fa5-844d-129b64092983"
      },
      "outputs": [
        {
          "name": "stdout",
          "output_type": "stream",
          "text": [
            "<class 'pandas.core.frame.DataFrame'>\n",
            "RangeIndex: 1586614 entries, 0 to 1586613\n",
            "Data columns (total 13 columns):\n",
            " #   Column              Non-Null Count    Dtype  \n",
            "---  ------              --------------    -----  \n",
            " 0   brewery_id          1586614 non-null  int64  \n",
            " 1   brewery_name        1586599 non-null  object \n",
            " 2   review_time         1586614 non-null  int64  \n",
            " 3   review_overall      1586614 non-null  float64\n",
            " 4   review_aroma        1586614 non-null  float64\n",
            " 5   review_appearance   1586614 non-null  float64\n",
            " 6   review_profilename  1586266 non-null  object \n",
            " 7   beer_style          1586614 non-null  object \n",
            " 8   review_palate       1586614 non-null  float64\n",
            " 9   review_taste        1586614 non-null  float64\n",
            " 10  beer_name           1586614 non-null  object \n",
            " 11  beer_abv            1518829 non-null  float64\n",
            " 12  beer_beerid         1586614 non-null  int64  \n",
            "dtypes: float64(6), int64(3), object(4)\n",
            "memory usage: 157.4+ MB\n"
          ]
        }
      ],
      "source": [
        "# Info of the dataset\n",
        "df.info()"
      ]
    },
    {
      "cell_type": "code",
      "execution_count": 106,
      "metadata": {
        "colab": {
          "base_uri": "https://localhost:8080/"
        },
        "id": "TUf2dLweBq5x",
        "outputId": "6aa73c62-952a-4ec3-c6b2-a935922b14ef"
      },
      "outputs": [
        {
          "name": "stdout",
          "output_type": "stream",
          "text": [
            "Beer review data: \n",
            "There is 1586614 rows and 13 columns in the dataset.\n"
          ]
        }
      ],
      "source": [
        "# Shape of the dataset\n",
        "print(f\"Beer review data: \\nThere is {df.shape[0]} rows and {df.shape[1]} columns in the dataset.\")"
      ]
    },
    {
      "cell_type": "code",
      "execution_count": 107,
      "metadata": {
        "colab": {
          "base_uri": "https://localhost:8080/",
          "height": 492
        },
        "id": "xq618hljCBVs",
        "outputId": "59334c5d-bf6a-467e-dd30-19dc1ae746fc"
      },
      "outputs": [
        {
          "data": {
            "text/plain": [
              "brewery_id                0\n",
              "brewery_name             15\n",
              "review_time               0\n",
              "review_overall            0\n",
              "review_aroma              0\n",
              "review_appearance         0\n",
              "review_profilename      348\n",
              "beer_style                0\n",
              "review_palate             0\n",
              "review_taste              0\n",
              "beer_name                 0\n",
              "beer_abv              67785\n",
              "beer_beerid               0\n",
              "dtype: int64"
            ]
          },
          "execution_count": 107,
          "metadata": {},
          "output_type": "execute_result"
        }
      ],
      "source": [
        "# Empty fields\n",
        "df.isnull().sum()"
      ]
    },
    {
      "cell_type": "code",
      "execution_count": 108,
      "metadata": {
        "colab": {
          "base_uri": "https://localhost:8080/",
          "height": 178
        },
        "id": "WdZFIJuCM5Yn",
        "outputId": "3df86465-691d-44ea-edd6-1cecb3a727f6"
      },
      "outputs": [
        {
          "data": {
            "text/plain": [
              "beer_abv              0.042723\n",
              "review_profilename    0.000219\n",
              "brewery_name          0.000009\n",
              "dtype: float64"
            ]
          },
          "execution_count": 108,
          "metadata": {},
          "output_type": "execute_result"
        }
      ],
      "source": [
        "# make a list of the variables that contain missing values\n",
        "vars_with_na = [var for var in df.columns if df[var].isnull().sum() > 0]\n",
        "\n",
        "# determine percentage of missing values (expressed as decimals)\n",
        "# and display the result ordered by % of missin data\n",
        "\n",
        "df[vars_with_na].isnull().mean().sort_values(ascending=False)"
      ]
    },
    {
      "cell_type": "markdown",
      "metadata": {
        "id": "thbXtm-p1bDa"
      },
      "source": [
        "# 1. Which brewery produces the strongest beers by ABV?"
      ]
    },
    {
      "cell_type": "code",
      "execution_count": 109,
      "metadata": {
        "colab": {
          "base_uri": "https://localhost:8080/",
          "height": 238
        },
        "id": "vpG1E3gP2TPv",
        "outputId": "a2942c3b-2f2d-40d6-c610-37c8d9de8dff"
      },
      "outputs": [
        {
          "data": {
            "text/html": [
              "<div>\n",
              "<style scoped>\n",
              "    .dataframe tbody tr th:only-of-type {\n",
              "        vertical-align: middle;\n",
              "    }\n",
              "\n",
              "    .dataframe tbody tr th {\n",
              "        vertical-align: top;\n",
              "    }\n",
              "\n",
              "    .dataframe thead th {\n",
              "        text-align: right;\n",
              "    }\n",
              "</style>\n",
              "<table border=\"1\" class=\"dataframe\">\n",
              "  <thead>\n",
              "    <tr style=\"text-align: right;\">\n",
              "      <th></th>\n",
              "      <th>count</th>\n",
              "      <th>mean</th>\n",
              "      <th>std</th>\n",
              "      <th>min</th>\n",
              "      <th>25%</th>\n",
              "      <th>50%</th>\n",
              "      <th>75%</th>\n",
              "      <th>max</th>\n",
              "    </tr>\n",
              "    <tr>\n",
              "      <th>brewery_name</th>\n",
              "      <th></th>\n",
              "      <th></th>\n",
              "      <th></th>\n",
              "      <th></th>\n",
              "      <th></th>\n",
              "      <th></th>\n",
              "      <th></th>\n",
              "      <th></th>\n",
              "    </tr>\n",
              "  </thead>\n",
              "  <tbody>\n",
              "    <tr>\n",
              "      <th>Schorschbräu</th>\n",
              "      <td>34.0</td>\n",
              "      <td>19.228824</td>\n",
              "      <td>12.327304</td>\n",
              "      <td>4.9</td>\n",
              "      <td>13.0</td>\n",
              "      <td>13.0</td>\n",
              "      <td>16.0</td>\n",
              "      <td>57.7</td>\n",
              "    </tr>\n",
              "    <tr>\n",
              "      <th>Shoes Brewery</th>\n",
              "      <td>2.0</td>\n",
              "      <td>15.200000</td>\n",
              "      <td>0.000000</td>\n",
              "      <td>15.2</td>\n",
              "      <td>15.2</td>\n",
              "      <td>15.2</td>\n",
              "      <td>15.2</td>\n",
              "      <td>15.2</td>\n",
              "    </tr>\n",
              "    <tr>\n",
              "      <th>Rome Brewing Company</th>\n",
              "      <td>5.0</td>\n",
              "      <td>13.840000</td>\n",
              "      <td>1.971801</td>\n",
              "      <td>12.4</td>\n",
              "      <td>12.4</td>\n",
              "      <td>12.4</td>\n",
              "      <td>16.0</td>\n",
              "      <td>16.0</td>\n",
              "    </tr>\n",
              "    <tr>\n",
              "      <th>Hurlimann Brewery</th>\n",
              "      <td>18.0</td>\n",
              "      <td>13.750000</td>\n",
              "      <td>0.575224</td>\n",
              "      <td>12.5</td>\n",
              "      <td>14.0</td>\n",
              "      <td>14.0</td>\n",
              "      <td>14.0</td>\n",
              "      <td>14.0</td>\n",
              "    </tr>\n",
              "    <tr>\n",
              "      <th>Alt-Oberurseler Brauhaus</th>\n",
              "      <td>1.0</td>\n",
              "      <td>13.200000</td>\n",
              "      <td>NaN</td>\n",
              "      <td>13.2</td>\n",
              "      <td>13.2</td>\n",
              "      <td>13.2</td>\n",
              "      <td>13.2</td>\n",
              "      <td>13.2</td>\n",
              "    </tr>\n",
              "  </tbody>\n",
              "</table>\n",
              "</div>"
            ],
            "text/plain": [
              "                          count       mean        std   min   25%   50%   75%  \\\n",
              "brewery_name                                                                    \n",
              "Schorschbräu               34.0  19.228824  12.327304   4.9  13.0  13.0  16.0   \n",
              "Shoes Brewery               2.0  15.200000   0.000000  15.2  15.2  15.2  15.2   \n",
              "Rome Brewing Company        5.0  13.840000   1.971801  12.4  12.4  12.4  16.0   \n",
              "Hurlimann Brewery          18.0  13.750000   0.575224  12.5  14.0  14.0  14.0   \n",
              "Alt-Oberurseler Brauhaus    1.0  13.200000        NaN  13.2  13.2  13.2  13.2   \n",
              "\n",
              "                           max  \n",
              "brewery_name                    \n",
              "Schorschbräu              57.7  \n",
              "Shoes Brewery             15.2  \n",
              "Rome Brewing Company      16.0  \n",
              "Hurlimann Brewery         14.0  \n",
              "Alt-Oberurseler Brauhaus  13.2  "
            ]
          },
          "execution_count": 109,
          "metadata": {},
          "output_type": "execute_result"
        }
      ],
      "source": [
        "df.groupby('brewery_name')['beer_abv'].describe().sort_values('mean', ascending=False).head()"
      ]
    },
    {
      "cell_type": "code",
      "execution_count": 110,
      "metadata": {
        "colab": {
          "base_uri": "https://localhost:8080/",
          "height": 147
        },
        "id": "67qCpVc7FB0q",
        "outputId": "a6b50ddb-386f-4ff4-ac87-5e5b789d301e"
      },
      "outputs": [
        {
          "data": {
            "text/plain": [
              "brewery_name\n",
              "Schorschbräu    57.7\n",
              "Name: beer_abv, dtype: float64"
            ]
          },
          "execution_count": 110,
          "metadata": {},
          "output_type": "execute_result"
        }
      ],
      "source": [
        "df.groupby('brewery_name')['beer_abv'].max().sort_values(ascending=False).head(1)"
      ]
    },
    {
      "cell_type": "code",
      "execution_count": 111,
      "metadata": {
        "colab": {
          "base_uri": "https://localhost:8080/",
          "height": 147
        },
        "id": "e5fDYcYZGiF6",
        "outputId": "ea2958c1-a62f-4553-bb68-2dcabb9c0122"
      },
      "outputs": [
        {
          "data": {
            "text/plain": [
              "brewery_name\n",
              "Schorschbräu    19.228824\n",
              "Name: beer_abv, dtype: float64"
            ]
          },
          "execution_count": 111,
          "metadata": {},
          "output_type": "execute_result"
        }
      ],
      "source": [
        "df.groupby('brewery_name')['beer_abv'].mean().sort_values(ascending=False).head(1)"
      ]
    },
    {
      "cell_type": "code",
      "execution_count": 112,
      "metadata": {
        "colab": {
          "base_uri": "https://localhost:8080/",
          "height": 147
        },
        "id": "eELKccz12C7d",
        "outputId": "6cf18c6b-a5b5-4aca-98bf-19ff31bb8d8b"
      },
      "outputs": [
        {
          "data": {
            "text/plain": [
              "brewery_name\n",
              "Shoes Brewery    15.2\n",
              "Name: beer_abv, dtype: float64"
            ]
          },
          "execution_count": 112,
          "metadata": {},
          "output_type": "execute_result"
        }
      ],
      "source": [
        "df.groupby('brewery_name')['beer_abv'].median().sort_values(ascending=False).head(1)"
      ]
    },
    {
      "cell_type": "markdown",
      "metadata": {
        "id": "OVwe672q18tS"
      },
      "source": [
        "## Anwser"
      ]
    },
    {
      "cell_type": "markdown",
      "metadata": {
        "id": "8IhoOlXz3qrA"
      },
      "source": [
        "The brewery that produces the strongest beers, based on the highest mean ABV, is **Schorschbräu** with a mean ABV of 19.23% and a maximum ABV of 57.7%."
      ]
    },
    {
      "cell_type": "markdown",
      "metadata": {
        "id": "wb32SbmEQ0sK"
      },
      "source": [
        "# 2. If you had to pick 3 beers to recommend to someone, how would you approach the problem?"
      ]
    },
    {
      "cell_type": "code",
      "execution_count": 113,
      "metadata": {
        "colab": {
          "base_uri": "https://localhost:8080/",
          "height": 429
        },
        "id": "6aEEhPjjG4V1",
        "outputId": "2ab8870a-c70b-46a4-f135-0a80eef50a2d"
      },
      "outputs": [
        {
          "data": {
            "text/plain": [
              "review_overall\n",
              "4.0    582764\n",
              "4.5    324385\n",
              "3.5    301817\n",
              "3.0    165644\n",
              "5.0     91320\n",
              "2.5     58523\n",
              "2.0     38225\n",
              "1.5     12975\n",
              "1.0     10954\n",
              "0.0         7\n",
              "Name: count, dtype: int64"
            ]
          },
          "execution_count": 113,
          "metadata": {},
          "output_type": "execute_result"
        }
      ],
      "source": [
        "df['review_overall'].value_counts()"
      ]
    },
    {
      "cell_type": "code",
      "execution_count": 114,
      "metadata": {
        "colab": {
          "base_uri": "https://localhost:8080/",
          "height": 424
        },
        "id": "NuQ0GX3ncf9r",
        "outputId": "1c0991e0-87d5-46aa-dc91-b0ec234c6d59"
      },
      "outputs": [
        {
          "data": {
            "text/html": [
              "<div>\n",
              "<style scoped>\n",
              "    .dataframe tbody tr th:only-of-type {\n",
              "        vertical-align: middle;\n",
              "    }\n",
              "\n",
              "    .dataframe tbody tr th {\n",
              "        vertical-align: top;\n",
              "    }\n",
              "\n",
              "    .dataframe thead th {\n",
              "        text-align: right;\n",
              "    }\n",
              "</style>\n",
              "<table border=\"1\" class=\"dataframe\">\n",
              "  <thead>\n",
              "    <tr style=\"text-align: right;\">\n",
              "      <th></th>\n",
              "      <th>beer_name</th>\n",
              "      <th>review_count</th>\n",
              "      <th>avg_review_overall</th>\n",
              "    </tr>\n",
              "  </thead>\n",
              "  <tbody>\n",
              "    <tr>\n",
              "      <th>0</th>\n",
              "      <td>90 Minute IPA</td>\n",
              "      <td>3290</td>\n",
              "      <td>4.145745</td>\n",
              "    </tr>\n",
              "    <tr>\n",
              "      <th>1</th>\n",
              "      <td>India Pale Ale</td>\n",
              "      <td>3130</td>\n",
              "      <td>3.842812</td>\n",
              "    </tr>\n",
              "    <tr>\n",
              "      <th>2</th>\n",
              "      <td>Old Rasputin Russian Imperial Stout</td>\n",
              "      <td>3111</td>\n",
              "      <td>4.174221</td>\n",
              "    </tr>\n",
              "    <tr>\n",
              "      <th>3</th>\n",
              "      <td>Sierra Nevada Celebration Ale</td>\n",
              "      <td>3000</td>\n",
              "      <td>4.168667</td>\n",
              "    </tr>\n",
              "    <tr>\n",
              "      <th>4</th>\n",
              "      <td>Two Hearted Ale</td>\n",
              "      <td>2728</td>\n",
              "      <td>4.329729</td>\n",
              "    </tr>\n",
              "    <tr>\n",
              "      <th>...</th>\n",
              "      <td>...</td>\n",
              "      <td>...</td>\n",
              "      <td>...</td>\n",
              "    </tr>\n",
              "    <tr>\n",
              "      <th>44250</th>\n",
              "      <td>Churchyard Strong Ale</td>\n",
              "      <td>1</td>\n",
              "      <td>4.000000</td>\n",
              "    </tr>\n",
              "    <tr>\n",
              "      <th>44249</th>\n",
              "      <td>Chyerniy Ale</td>\n",
              "      <td>1</td>\n",
              "      <td>2.000000</td>\n",
              "    </tr>\n",
              "    <tr>\n",
              "      <th>44248</th>\n",
              "      <td>Chyernogolovskoye Ekstra</td>\n",
              "      <td>1</td>\n",
              "      <td>3.000000</td>\n",
              "    </tr>\n",
              "    <tr>\n",
              "      <th>44247</th>\n",
              "      <td>Châtaigne</td>\n",
              "      <td>1</td>\n",
              "      <td>3.500000</td>\n",
              "    </tr>\n",
              "    <tr>\n",
              "      <th>56856</th>\n",
              "      <td>葉山ビール (Hayama Beer)</td>\n",
              "      <td>1</td>\n",
              "      <td>4.000000</td>\n",
              "    </tr>\n",
              "  </tbody>\n",
              "</table>\n",
              "<p>56857 rows × 3 columns</p>\n",
              "</div>"
            ],
            "text/plain": [
              "                                 beer_name  review_count  avg_review_overall\n",
              "0                            90 Minute IPA          3290            4.145745\n",
              "1                           India Pale Ale          3130            3.842812\n",
              "2      Old Rasputin Russian Imperial Stout          3111            4.174221\n",
              "3            Sierra Nevada Celebration Ale          3000            4.168667\n",
              "4                          Two Hearted Ale          2728            4.329729\n",
              "...                                    ...           ...                 ...\n",
              "44250                Churchyard Strong Ale             1            4.000000\n",
              "44249                         Chyerniy Ale             1            2.000000\n",
              "44248             Chyernogolovskoye Ekstra             1            3.000000\n",
              "44247                            Châtaigne             1            3.500000\n",
              "56856                  葉山ビール (Hayama Beer)             1            4.000000\n",
              "\n",
              "[56857 rows x 3 columns]"
            ]
          },
          "execution_count": 114,
          "metadata": {},
          "output_type": "execute_result"
        }
      ],
      "source": [
        "review_counts = df.groupby('beer_name').size().sort_values(ascending=False).reset_index(name='review_count')\n",
        "review_means = df.groupby('beer_name')['review_overall'].mean().reset_index(name='avg_review_overall')\n",
        "\n",
        "review_counts = pd.merge(review_counts, review_means, on='beer_name', how='left')\n",
        "review_counts = review_counts.sort_values(by='review_count', ascending=False)\n",
        "\n",
        "review_counts"
      ]
    },
    {
      "cell_type": "code",
      "execution_count": 115,
      "metadata": {
        "id": "ukt6Wzigp0sf"
      },
      "outputs": [],
      "source": [
        "def analyze_review_counts(df):\n",
        "    # Calculate the distribution of ratings\n",
        "    review_distribution = df['review_overall'].value_counts().sort_index()\n",
        "    ratings = review_distribution.index.to_numpy()\n",
        "    counts = review_distribution.to_numpy()\n",
        "\n",
        "    # Calculate the mean rating and standard deviation based on the actual distribution of ratings\n",
        "    mean_rating = np.average(ratings, weights=counts)\n",
        "    variance = np.average((ratings - mean_rating) ** 2, weights=counts)\n",
        "    std_dev = np.sqrt(variance)\n",
        "\n",
        "    # Group by beer name and count the number of reviews\n",
        "    review_counts = df.groupby('beer_name')['review_overall'].count().reset_index(name='review_count')\n",
        "\n",
        "    # Calculate percentiles of review counts per beer\n",
        "    percentiles = review_counts['review_count'].describe(percentiles=[.25, .5, .75, .9, .95, .99])\n",
        "\n",
        "    print(\"Review Count Statistics per Beer:\")\n",
        "    print(percentiles)\n",
        "\n",
        "    # Plot histogram of review counts\n",
        "    plt.figure(figsize=(10, 6))\n",
        "    plt.hist(review_counts['review_count'], bins=50, edgecolor='black')\n",
        "    plt.title('Distribution of Review Counts')\n",
        "    plt.xlabel('Number of Reviews')\n",
        "    plt.ylabel('Frequency')\n",
        "    plt.yscale('log')  # Logarithmic scale for the y-axis\n",
        "    plt.show()\n",
        "\n",
        "    # Calculate margin of error for different review counts\n",
        "    review_counts_list = [5, 10, 20, 30, 50, 100, 200, 500, 1000, 1500, 2000, 3000]\n",
        "    z_score = 1.96  # Z-score for 95% confidence level\n",
        "    margins_of_error = [\n",
        "        z_score * (std_dev / np.sqrt(count)) for count in review_counts_list\n",
        "    ]\n",
        "\n",
        "    # Plot margin of error versus number of reviews\n",
        "    plt.figure(figsize=(10, 6))\n",
        "    plt.plot(review_counts_list, margins_of_error, marker='o')\n",
        "    target_moe = 0.05\n",
        "    plt.axhline(y=target_moe, color='red', linestyle='--', label=f'Margin of Error = {target_moe}')\n",
        "    plt.title('Margin of Error vs. Number of Reviews')\n",
        "    plt.xlabel('Number of Reviews')\n",
        "    plt.ylabel('Margin of Error (95% Confidence)')\n",
        "    plt.legend()\n",
        "    plt.show()\n",
        "\n",
        "    # Calculate the number of reviews needed to achieve specific margins of error\n",
        "    target_margins_of_error = [0.05, 0.1]\n",
        "    reviews_needed = [\n",
        "        (z_score * std_dev / moe) ** 2 for moe in target_margins_of_error\n",
        "    ]\n",
        "\n",
        "    print(\"\\nNumber of Reviews Needed to Achieve Specific Margin of Error:\")\n",
        "    for moe, reviews in zip(target_margins_of_error, reviews_needed):\n",
        "        print(f\"Margin of Error: {moe} -> Required Number of Reviews: {int(np.ceil(reviews))}\")\n",
        "\n",
        "    return percentiles, review_counts_list, margins_of_error"
      ]
    },
    {
      "cell_type": "code",
      "execution_count": 116,
      "metadata": {
        "colab": {
          "base_uri": "https://localhost:8080/",
          "height": 1000
        },
        "id": "1AQa-LlDA_zp",
        "outputId": "b8b49fe4-36f1-49dd-8dea-9fc6766187a8"
      },
      "outputs": [
        {
          "name": "stdout",
          "output_type": "stream",
          "text": [
            "Review Count Statistics per Beer:\n",
            "count    56857.000000\n",
            "mean        27.905341\n",
            "std        122.198636\n",
            "min          1.000000\n",
            "25%          1.000000\n",
            "50%          3.000000\n",
            "75%          9.000000\n",
            "90%         43.000000\n",
            "95%        113.000000\n",
            "99%        532.000000\n",
            "max       3290.000000\n",
            "Name: review_count, dtype: float64\n"
          ]
        },
        {
          "data": {
            "image/png": "[encoded data removed]",
            "text/plain": [
              "<Figure size 1000x600 with 1 Axes>"
            ]
          },
          "metadata": {},
          "output_type": "display_data"
        },
        {
          "data": {
            "image/png": "[encoded data removed]",
            "text/plain": [
              "<Figure size 1000x600 with 1 Axes>"
            ]
          },
          "metadata": {},
          "output_type": "display_data"
        },
        {
          "name": "stdout",
          "output_type": "stream",
          "text": [
            "\n",
            "Number of Reviews Needed to Achieve Specific Margin of Error:\n",
            "Margin of Error: 0.05 -> Required Number of Reviews: 798\n",
            "Margin of Error: 0.1 -> Required Number of Reviews: 200\n"
          ]
        }
      ],
      "source": [
        "percentiles, review_counts_list, margins_of_error = analyze_review_counts(df)"
      ]
    },
    {
      "cell_type": "code",
      "execution_count": 117,
      "metadata": {
        "colab": {
          "base_uri": "https://localhost:8080/",
          "height": 143
        },
        "id": "65C4616ah2Fd",
        "outputId": "03a265de-9144-4f1d-e191-95a41eb50742"
      },
      "outputs": [
        {
          "data": {
            "text/html": [
              "<div>\n",
              "<style scoped>\n",
              "    .dataframe tbody tr th:only-of-type {\n",
              "        vertical-align: middle;\n",
              "    }\n",
              "\n",
              "    .dataframe tbody tr th {\n",
              "        vertical-align: top;\n",
              "    }\n",
              "\n",
              "    .dataframe thead th {\n",
              "        text-align: right;\n",
              "    }\n",
              "</style>\n",
              "<table border=\"1\" class=\"dataframe\">\n",
              "  <thead>\n",
              "    <tr style=\"text-align: right;\">\n",
              "      <th></th>\n",
              "      <th>beer_name</th>\n",
              "      <th>review_count</th>\n",
              "      <th>avg_review_overall</th>\n",
              "    </tr>\n",
              "  </thead>\n",
              "  <tbody>\n",
              "    <tr>\n",
              "      <th>122</th>\n",
              "      <td>Trappist Westvleteren 12</td>\n",
              "      <td>1272</td>\n",
              "      <td>4.617925</td>\n",
              "    </tr>\n",
              "    <tr>\n",
              "      <th>9</th>\n",
              "      <td>Pliny The Elder</td>\n",
              "      <td>2527</td>\n",
              "      <td>4.590028</td>\n",
              "    </tr>\n",
              "    <tr>\n",
              "      <th>33</th>\n",
              "      <td>Weihenstephaner Hefeweissbier</td>\n",
              "      <td>1981</td>\n",
              "      <td>4.515901</td>\n",
              "    </tr>\n",
              "  </tbody>\n",
              "</table>\n",
              "</div>"
            ],
            "text/plain": [
              "                         beer_name  review_count  avg_review_overall\n",
              "122       Trappist Westvleteren 12          1272            4.617925\n",
              "9                  Pliny The Elder          2527            4.590028\n",
              "33   Weihenstephaner Hefeweissbier          1981            4.515901"
            ]
          },
          "execution_count": 117,
          "metadata": {},
          "output_type": "execute_result"
        }
      ],
      "source": [
        "top_3 = review_counts[review_counts['review_count']>=798]\n",
        "top_3.sort_values('avg_review_overall', ascending = False).head(3)"
      ]
    },
    {
      "cell_type": "markdown",
      "metadata": {
        "id": "VvWLR8I85tsL"
      },
      "source": [
        "## Anwser"
      ]
    },
    {
      "cell_type": "markdown",
      "metadata": {
        "id": "qazVdFUqEaa2"
      },
      "source": [
        "Analyzing the data on beer reviews revealed significant variability in the number of reviews for each beer, which greatly impacts the reliability of the results. Some beers have over 3,000 reviews, while others have only one. This wide range makes it challenging to accurately assess a beer with just a single review.\n",
        "\n",
        "The average number of reviews is 27, but the high standard deviation (122) indicates that the data is highly dispersed. Additionally, 75% of beers have 9 or fewer reviews, suggesting that only a small portion of beers are widely reviewed.\n",
        "\n",
        "To obtain reliable results, it was necessary to apply the margin of error measure. It was found that achieving a margin of error of 0.05 requires at least 798 reviews. Therefore, the focus was placed on beers that meet this criterion, which allowed for more precise and representative results for the best beers.\n",
        "\n",
        "This analysis shows that to ensure the reliability of beer ratings, it is essential to consider the number of reviews and the margin of error. This approach helps identify the truly best beers, such as:\n",
        "\n",
        "* Trappist Westvleteren\n",
        "* Pliny The Elder\n",
        "* Weihenstephaner Hefeweissbier"
      ]
    },
    {
      "cell_type": "markdown",
      "metadata": {
        "id": "aIJo01GFNjs6"
      },
      "source": [
        "# 3. What are the factors that impacts the quality of beer the most ?"
      ]
    },
    {
      "cell_type": "markdown",
      "metadata": {
        "id": "1pFyYptzRJm_"
      },
      "source": [
        "## Correlation of features"
      ]
    },
    {
      "cell_type": "code",
      "execution_count": 118,
      "metadata": {
        "colab": {
          "base_uri": "https://localhost:8080/"
        },
        "id": "6_Us0urezhAf",
        "outputId": "d4e2a9de-bbfe-4a5d-ff50-2b4e031b092e"
      },
      "outputs": [
        {
          "name": "stdout",
          "output_type": "stream",
          "text": [
            "Correlation of 'review_overall' with other numerical variables:\n",
            "review_taste         0.789816\n",
            "review_palate        0.701914\n",
            "review_aroma         0.616013\n",
            "review_appearance    0.501732\n",
            "beer_abv             0.138512\n",
            "Name: review_overall, dtype: float64\n"
          ]
        }
      ],
      "source": [
        "numerical_vars = ['review_aroma', 'review_appearance', 'review_palate', 'review_taste', 'beer_abv']\n",
        "\n",
        "# Compute correlation matrix\n",
        "correlation_matrix = df[['review_overall'] + numerical_vars].corr()\n",
        "\n",
        "# Extract correlations with 'review_overall'\n",
        "correlations_with_overall = correlation_matrix['review_overall'].drop('review_overall').sort_values(ascending=False)\n",
        "\n",
        "print(\"Correlation of 'review_overall' with other numerical variables:\")\n",
        "print(correlations_with_overall)"
      ]
    },
    {
      "cell_type": "markdown",
      "metadata": {
        "id": "kBwJeVyeRQUq"
      },
      "source": [
        "## ML Models"
      ]
    },
    {
      "cell_type": "markdown",
      "metadata": {
        "id": "11g0oXgjRYOp"
      },
      "source": [
        "### Feature engineering"
      ]
    },
    {
      "cell_type": "code",
      "execution_count": 119,
      "metadata": {
        "id": "dyGXkCqFdNeH"
      },
      "outputs": [],
      "source": [
        "from sklearn.preprocessing import LabelEncoder\n",
        "le = LabelEncoder()\n",
        "df['beer_style_encoded'] = le.fit_transform(df['beer_style'])\n",
        "# Encode the 'beer_style' column and add the encoded values as a new column 'beer_style_encoded' in the DataFrame\n",
        "# The 'beer_style' column, which contains categorical data (e.g., beer types), is transformed into numeric labels\n",
        "\n",
        "df_to_ml = df.drop(['review_profilename', 'beer_style', 'beer_name', 'brewery_name'], axis=1)  # Drop the specified columns from the DataFrame, retaining only the relevant features for machine learning\n"
      ]
    },
    {
      "cell_type": "code",
      "execution_count": 120,
      "metadata": {
        "colab": {
          "base_uri": "https://localhost:8080/",
          "height": 115
        },
        "id": "MwX49YkbhRG2",
        "outputId": "5e197a9b-8359-48a6-f850-5ca1dded25d2"
      },
      "outputs": [
        {
          "data": {
            "text/plain": [
              "beer_abv    0.042723\n",
              "dtype: float64"
            ]
          },
          "execution_count": 120,
          "metadata": {},
          "output_type": "execute_result"
        }
      ],
      "source": [
        "# make a list of the variables that contain missing values\n",
        "vars_with_na = [var for var in df_to_ml.columns if df_to_ml[var].isnull().sum() > 0]\n",
        "\n",
        "# determine percentage of missing values (expressed as decimals)\n",
        "# and display the result ordered by % of missin data\n",
        "\n",
        "df_to_ml[vars_with_na].isnull().mean().sort_values(ascending=False)"
      ]
    },
    {
      "cell_type": "code",
      "execution_count": 121,
      "metadata": {
        "id": "4v6bgBlKoO-C"
      },
      "outputs": [],
      "source": [
        "# Calculate the median of the 'beer_abv' column to handle missing values\n",
        "beer_abv_median = df_to_ml['beer_abv'].median()"
      ]
    },
    {
      "cell_type": "code",
      "execution_count": 122,
      "metadata": {
        "colab": {
          "base_uri": "https://localhost:8080/",
          "height": 73
        },
        "id": "zYjT7YBHjB8r",
        "outputId": "4d6fdd83-a2bf-43fa-88f1-1a93ef2ad7ff"
      },
      "outputs": [
        {
          "data": {
            "text/html": [
              "<div>\n",
              "<style scoped>\n",
              "    .dataframe tbody tr th:only-of-type {\n",
              "        vertical-align: middle;\n",
              "    }\n",
              "\n",
              "    .dataframe tbody tr th {\n",
              "        vertical-align: top;\n",
              "    }\n",
              "\n",
              "    .dataframe thead th {\n",
              "        text-align: right;\n",
              "    }\n",
              "</style>\n",
              "<table border=\"1\" class=\"dataframe\">\n",
              "  <thead>\n",
              "    <tr style=\"text-align: right;\">\n",
              "      <th></th>\n",
              "      <th>brewery_id</th>\n",
              "      <th>review_time</th>\n",
              "      <th>review_overall</th>\n",
              "      <th>review_aroma</th>\n",
              "      <th>review_appearance</th>\n",
              "      <th>review_palate</th>\n",
              "      <th>review_taste</th>\n",
              "      <th>beer_abv</th>\n",
              "      <th>beer_beerid</th>\n",
              "      <th>beer_style_encoded</th>\n",
              "    </tr>\n",
              "  </thead>\n",
              "  <tbody>\n",
              "    <tr>\n",
              "      <th>273</th>\n",
              "      <td>1075</td>\n",
              "      <td>1103668195</td>\n",
              "      <td>3.0</td>\n",
              "      <td>3.0</td>\n",
              "      <td>3.0</td>\n",
              "      <td>4.0</td>\n",
              "      <td>3.0</td>\n",
              "      <td>NaN</td>\n",
              "      <td>21241</td>\n",
              "      <td>18</td>\n",
              "    </tr>\n",
              "    <tr>\n",
              "      <th>430</th>\n",
              "      <td>850</td>\n",
              "      <td>1110736110</td>\n",
              "      <td>3.5</td>\n",
              "      <td>4.0</td>\n",
              "      <td>4.5</td>\n",
              "      <td>3.5</td>\n",
              "      <td>3.5</td>\n",
              "      <td>NaN</td>\n",
              "      <td>20689</td>\n",
              "      <td>94</td>\n",
              "    </tr>\n",
              "    <tr>\n",
              "      <th>603</th>\n",
              "      <td>850</td>\n",
              "      <td>1100038819</td>\n",
              "      <td>4.0</td>\n",
              "      <td>3.5</td>\n",
              "      <td>4.0</td>\n",
              "      <td>3.5</td>\n",
              "      <td>3.5</td>\n",
              "      <td>NaN</td>\n",
              "      <td>20689</td>\n",
              "      <td>94</td>\n",
              "    </tr>\n",
              "    <tr>\n",
              "      <th>733</th>\n",
              "      <td>1075</td>\n",
              "      <td>1260673921</td>\n",
              "      <td>4.0</td>\n",
              "      <td>4.0</td>\n",
              "      <td>4.0</td>\n",
              "      <td>4.0</td>\n",
              "      <td>4.0</td>\n",
              "      <td>NaN</td>\n",
              "      <td>54723</td>\n",
              "      <td>12</td>\n",
              "    </tr>\n",
              "    <tr>\n",
              "      <th>798</th>\n",
              "      <td>1075</td>\n",
              "      <td>1212201268</td>\n",
              "      <td>4.5</td>\n",
              "      <td>4.5</td>\n",
              "      <td>4.0</td>\n",
              "      <td>4.0</td>\n",
              "      <td>4.5</td>\n",
              "      <td>NaN</td>\n",
              "      <td>42964</td>\n",
              "      <td>11</td>\n",
              "    </tr>\n",
              "    <tr>\n",
              "      <th>...</th>\n",
              "      <td>...</td>\n",
              "      <td>...</td>\n",
              "      <td>...</td>\n",
              "      <td>...</td>\n",
              "      <td>...</td>\n",
              "      <td>...</td>\n",
              "      <td>...</td>\n",
              "      <td>...</td>\n",
              "      <td>...</td>\n",
              "      <td>...</td>\n",
              "    </tr>\n",
              "    <tr>\n",
              "      <th>1586568</th>\n",
              "      <td>14359</td>\n",
              "      <td>1187052567</td>\n",
              "      <td>4.0</td>\n",
              "      <td>3.5</td>\n",
              "      <td>4.0</td>\n",
              "      <td>4.0</td>\n",
              "      <td>4.0</td>\n",
              "      <td>NaN</td>\n",
              "      <td>36424</td>\n",
              "      <td>31</td>\n",
              "    </tr>\n",
              "    <tr>\n",
              "      <th>1586587</th>\n",
              "      <td>14359</td>\n",
              "      <td>1177842168</td>\n",
              "      <td>3.5</td>\n",
              "      <td>4.5</td>\n",
              "      <td>4.0</td>\n",
              "      <td>4.5</td>\n",
              "      <td>4.0</td>\n",
              "      <td>NaN</td>\n",
              "      <td>36555</td>\n",
              "      <td>78</td>\n",
              "    </tr>\n",
              "    <tr>\n",
              "      <th>1586596</th>\n",
              "      <td>14359</td>\n",
              "      <td>1287951067</td>\n",
              "      <td>4.0</td>\n",
              "      <td>3.0</td>\n",
              "      <td>5.0</td>\n",
              "      <td>4.0</td>\n",
              "      <td>3.5</td>\n",
              "      <td>NaN</td>\n",
              "      <td>48360</td>\n",
              "      <td>26</td>\n",
              "    </tr>\n",
              "    <tr>\n",
              "      <th>1586597</th>\n",
              "      <td>14359</td>\n",
              "      <td>1241906223</td>\n",
              "      <td>4.5</td>\n",
              "      <td>4.5</td>\n",
              "      <td>4.0</td>\n",
              "      <td>4.0</td>\n",
              "      <td>4.0</td>\n",
              "      <td>NaN</td>\n",
              "      <td>48360</td>\n",
              "      <td>26</td>\n",
              "    </tr>\n",
              "    <tr>\n",
              "      <th>1586598</th>\n",
              "      <td>14359</td>\n",
              "      <td>1236550020</td>\n",
              "      <td>4.0</td>\n",
              "      <td>4.0</td>\n",
              "      <td>3.5</td>\n",
              "      <td>4.0</td>\n",
              "      <td>4.5</td>\n",
              "      <td>NaN</td>\n",
              "      <td>48360</td>\n",
              "      <td>26</td>\n",
              "    </tr>\n",
              "  </tbody>\n",
              "</table>\n",
              "<p>67785 rows × 10 columns</p>\n",
              "</div>"
            ],
            "text/plain": [
              "         brewery_id  review_time  review_overall  review_aroma  \\\n",
              "273            1075   1103668195             3.0           3.0   \n",
              "430             850   1110736110             3.5           4.0   \n",
              "603             850   1100038819             4.0           3.5   \n",
              "733            1075   1260673921             4.0           4.0   \n",
              "798            1075   1212201268             4.5           4.5   \n",
              "...             ...          ...             ...           ...   \n",
              "1586568       14359   1187052567             4.0           3.5   \n",
              "1586587       14359   1177842168             3.5           4.5   \n",
              "1586596       14359   1287951067             4.0           3.0   \n",
              "1586597       14359   1241906223             4.5           4.5   \n",
              "1586598       14359   1236550020             4.0           4.0   \n",
              "\n",
              "         review_appearance  review_palate  review_taste  beer_abv  \\\n",
              "273                    3.0            4.0           3.0       NaN   \n",
              "430                    4.5            3.5           3.5       NaN   \n",
              "603                    4.0            3.5           3.5       NaN   \n",
              "733                    4.0            4.0           4.0       NaN   \n",
              "798                    4.0            4.0           4.5       NaN   \n",
              "...                    ...            ...           ...       ...   \n",
              "1586568                4.0            4.0           4.0       NaN   \n",
              "1586587                4.0            4.5           4.0       NaN   \n",
              "1586596                5.0            4.0           3.5       NaN   \n",
              "1586597                4.0            4.0           4.0       NaN   \n",
              "1586598                3.5            4.0           4.5       NaN   \n",
              "\n",
              "         beer_beerid  beer_style_encoded  \n",
              "273            21241                  18  \n",
              "430            20689                  94  \n",
              "603            20689                  94  \n",
              "733            54723                  12  \n",
              "798            42964                  11  \n",
              "...              ...                 ...  \n",
              "1586568        36424                  31  \n",
              "1586587        36555                  78  \n",
              "1586596        48360                  26  \n",
              "1586597        48360                  26  \n",
              "1586598        48360                  26  \n",
              "\n",
              "[67785 rows x 10 columns]"
            ]
          },
          "execution_count": 122,
          "metadata": {},
          "output_type": "execute_result"
        }
      ],
      "source": [
        "df_to_ml[df_to_ml['beer_abv'].isnull()]"
      ]
    },
    {
      "cell_type": "code",
      "execution_count": 123,
      "metadata": {
        "id": "TOfiIVq_oD-J"
      },
      "outputs": [],
      "source": [
        "# Fill missing values (NaN) in the 'beer_abv' column with the previously calculated median value\n",
        "df_to_ml['beer_abv'] = df_to_ml['beer_abv'].fillna(beer_abv_median)"
      ]
    },
    {
      "cell_type": "code",
      "execution_count": 124,
      "metadata": {},
      "outputs": [],
      "source": [
        "from sklearn.model_selection import train_test_split\n",
        "\n",
        "X = df_to_ml.drop(columns=['review_overall'])\n",
        "y = df_to_ml['review_overall']\n",
        "\n",
        "X_train, X_test, y_train, y_test = train_test_split(X, y, test_size=0.2, random_state=42)"
      ]
    },
    {
      "cell_type": "code",
      "execution_count": 125,
      "metadata": {
        "id": "j-60zwZJp29z"
      },
      "outputs": [],
      "source": [
        "from sklearn.preprocessing import MinMaxScaler\n",
        "# create scaler\n",
        "scaler = MinMaxScaler()\n",
        "\n",
        "#  fit  the scaler to the train set\n",
        "scaler.fit(X_train)\n",
        "\n",
        "# transform the train and test set\n",
        "\n",
        "# sklearn returns numpy arrays, so we wrap the\n",
        "# array with a pandas dataframe\n",
        "\n",
        "X_train = pd.DataFrame(\n",
        "    scaler.transform(X_train),\n",
        "    columns=X_train.columns\n",
        ")\n",
        "\n",
        "X_test = pd.DataFrame(\n",
        "    scaler.transform(X_test),\n",
        "    columns=X_train.columns\n",
        ")"
      ]
    },
    {
      "cell_type": "markdown",
      "metadata": {
        "id": "jQ_ji7bgSVfw"
      },
      "source": [
        "#### Random Forest"
      ]
    },
    {
      "cell_type": "code",
      "execution_count": 126,
      "metadata": {
        "colab": {
          "background_save": true
        },
        "id": "XSc1KBhtreBM",
        "outputId": "78d020d7-8ed7-4351-9777-dcfdd05b9548"
      },
      "outputs": [],
      "source": [
        "from sklearn.ensemble import RandomForestRegressor\n",
        "rf = RandomForestRegressor(n_estimators=100, random_state=42)\n",
        "rf.fit(X_train, y_train)"
      ]
    },
    {
      "cell_type": "code",
      "execution_count": null,
      "metadata": {
        "colab": {
          "base_uri": "https://localhost:8080/",
          "height": 206
        },
        "id": "yXWhSoeVKWJ9",
        "outputId": "7e98bdb0-e090-4fee-935b-01340fe307d6"
      },
      "outputs": [
        {
          "data": {
            "text/html": [
              "<div>\n",
              "<style scoped>\n",
              "    .dataframe tbody tr th:only-of-type {\n",
              "        vertical-align: middle;\n",
              "    }\n",
              "\n",
              "    .dataframe tbody tr th {\n",
              "        vertical-align: top;\n",
              "    }\n",
              "\n",
              "    .dataframe thead th {\n",
              "        text-align: right;\n",
              "    }\n",
              "</style>\n",
              "<table border=\"1\" class=\"dataframe\">\n",
              "  <thead>\n",
              "    <tr style=\"text-align: right;\">\n",
              "      <th></th>\n",
              "      <th>feature</th>\n",
              "      <th>importance</th>\n",
              "    </tr>\n",
              "  </thead>\n",
              "  <tbody>\n",
              "    <tr>\n",
              "      <th>5</th>\n",
              "      <td>review_taste</td>\n",
              "      <td>0.628943</td>\n",
              "    </tr>\n",
              "    <tr>\n",
              "      <th>1</th>\n",
              "      <td>review_time</td>\n",
              "      <td>0.123589</td>\n",
              "    </tr>\n",
              "    <tr>\n",
              "      <th>7</th>\n",
              "      <td>beer_beerid</td>\n",
              "      <td>0.051459</td>\n",
              "    </tr>\n",
              "    <tr>\n",
              "      <th>0</th>\n",
              "      <td>brewery_id</td>\n",
              "      <td>0.044884</td>\n",
              "    </tr>\n",
              "    <tr>\n",
              "      <th>6</th>\n",
              "      <td>beer_abv</td>\n",
              "      <td>0.039075</td>\n",
              "    </tr>\n",
              "  </tbody>\n",
              "</table>\n",
              "</div>"
            ],
            "text/plain": [
              "        feature  importance\n",
              "5  review_taste    0.628943\n",
              "1   review_time    0.123589\n",
              "7   beer_beerid    0.051459\n",
              "0    brewery_id    0.044884\n",
              "6      beer_abv    0.039075"
            ]
          },
          "execution_count": 26,
          "metadata": {},
          "output_type": "execute_result"
        }
      ],
      "source": [
        "importances = rf.feature_importances_\n",
        "feature_names = X_train.columns\n",
        "feature_importance_df = pd.DataFrame({'feature': feature_names, 'importance': importances})\n",
        "feature_importance_df = feature_importance_df.sort_values(by='importance', ascending=False)\n",
        "feature_importance_df.head()"
      ]
    },
    {
      "cell_type": "code",
      "execution_count": null,
      "metadata": {
        "colab": {
          "base_uri": "https://localhost:8080/"
        },
        "id": "gqnPy-69K0kC",
        "outputId": "86b0a1c0-4058-434e-c61f-e505128f9152"
      },
      "outputs": [
        {
          "data": {
            "text/plain": [
              "0.9527904937953675"
            ]
          },
          "execution_count": 27,
          "metadata": {},
          "output_type": "execute_result"
        }
      ],
      "source": [
        "rf.score(X_train, y_train)"
      ]
    },
    {
      "cell_type": "code",
      "execution_count": null,
      "metadata": {
        "colab": {
          "base_uri": "https://localhost:8080/"
        },
        "id": "0xHG2cpkL2ms",
        "outputId": "811661b6-afbb-4efe-f9f1-73ba5898e6e9"
      },
      "outputs": [
        {
          "data": {
            "text/plain": [
              "0.6622289647293469"
            ]
          },
          "execution_count": 28,
          "metadata": {},
          "output_type": "execute_result"
        }
      ],
      "source": [
        "rf.score(X_test, y_test)"
      ]
    },
    {
      "cell_type": "markdown",
      "metadata": {
        "id": "gK25s_JZShIy"
      },
      "source": [
        "#### XGBoost"
      ]
    },
    {
      "cell_type": "code",
      "execution_count": null,
      "metadata": {
        "colab": {
          "base_uri": "https://localhost:8080/",
          "height": 268
        },
        "id": "YnCtpP76O77c",
        "outputId": "aef20796-96dc-4e0b-e9e3-0722c4384560"
      },
      "outputs": [
        {
          "data": {
            "text/html": [
              "<style>#sk-container-id-2 {\n",
              "  /* Definition of color scheme common for light and dark mode */\n",
              "  --sklearn-color-text: black;\n",
              "  --sklearn-color-line: gray;\n",
              "  /* Definition of color scheme for unfitted estimators */\n",
              "  --sklearn-color-unfitted-level-0: #fff5e6;\n",
              "  --sklearn-color-unfitted-level-1: #f6e4d2;\n",
              "  --sklearn-color-unfitted-level-2: #ffe0b3;\n",
              "  --sklearn-color-unfitted-level-3: chocolate;\n",
              "  /* Definition of color scheme for fitted estimators */\n",
              "  --sklearn-color-fitted-level-0: #f0f8ff;\n",
              "  --sklearn-color-fitted-level-1: #d4ebff;\n",
              "  --sklearn-color-fitted-level-2: #b3dbfd;\n",
              "  --sklearn-color-fitted-level-3: cornflowerblue;\n",
              "\n",
              "  /* Specific color for light theme */\n",
              "  --sklearn-color-text-on-default-background: var(--sg-text-color, var(--theme-code-foreground, var(--jp-content-font-color1, black)));\n",
              "  --sklearn-color-background: var(--sg-background-color, var(--theme-background, var(--jp-layout-color0, white)));\n",
              "  --sklearn-color-border-box: var(--sg-text-color, var(--theme-code-foreground, var(--jp-content-font-color1, black)));\n",
              "  --sklearn-color-icon: #696969;\n",
              "\n",
              "  @media (prefers-color-scheme: dark) {\n",
              "    /* Redefinition of color scheme for dark theme */\n",
              "    --sklearn-color-text-on-default-background: var(--sg-text-color, var(--theme-code-foreground, var(--jp-content-font-color1, white)));\n",
              "    --sklearn-color-background: var(--sg-background-color, var(--theme-background, var(--jp-layout-color0, #111)));\n",
              "    --sklearn-color-border-box: var(--sg-text-color, var(--theme-code-foreground, var(--jp-content-font-color1, white)));\n",
              "    --sklearn-color-icon: #878787;\n",
              "  }\n",
              "}\n",
              "\n",
              "#sk-container-id-2 {\n",
              "  color: var(--sklearn-color-text);\n",
              "}\n",
              "\n",
              "#sk-container-id-2 pre {\n",
              "  padding: 0;\n",
              "}\n",
              "\n",
              "#sk-container-id-2 input.sk-hidden--visually {\n",
              "  border: 0;\n",
              "  clip: rect(1px 1px 1px 1px);\n",
              "  clip: rect(1px, 1px, 1px, 1px);\n",
              "  height: 1px;\n",
              "  margin: -1px;\n",
              "  overflow: hidden;\n",
              "  padding: 0;\n",
              "  position: absolute;\n",
              "  width: 1px;\n",
              "}\n",
              "\n",
              "#sk-container-id-2 div.sk-dashed-wrapped {\n",
              "  border: 1px dashed var(--sklearn-color-line);\n",
              "  margin: 0 0.4em 0.5em 0.4em;\n",
              "  box-sizing: border-box;\n",
              "  padding-bottom: 0.4em;\n",
              "  background-color: var(--sklearn-color-background);\n",
              "}\n",
              "\n",
              "#sk-container-id-2 div.sk-container {\n",
              "  /* jupyter's `normalize.less` sets `[hidden] { display: none; }`\n",
              "     but bootstrap.min.css set `[hidden] { display: none !important; }`\n",
              "     so we also need the `!important` here to be able to override the\n",
              "     default hidden behavior on the sphinx rendered scikit-learn.org.\n",
              "     See: https://github.com/scikit-learn/scikit-learn/issues/21755 */\n",
              "  display: inline-block !important;\n",
              "  position: relative;\n",
              "}\n",
              "\n",
              "#sk-container-id-2 div.sk-text-repr-fallback {\n",
              "  display: none;\n",
              "}\n",
              "\n",
              "div.sk-parallel-item,\n",
              "div.sk-serial,\n",
              "div.sk-item {\n",
              "  /* draw centered vertical line to link estimators */\n",
              "  background-image: linear-gradient(var(--sklearn-color-text-on-default-background), var(--sklearn-color-text-on-default-background));\n",
              "  background-size: 2px 100%;\n",
              "  background-repeat: no-repeat;\n",
              "  background-position: center center;\n",
              "}\n",
              "\n",
              "/* Parallel-specific style estimator block */\n",
              "\n",
              "#sk-container-id-2 div.sk-parallel-item::after {\n",
              "  content: \"\";\n",
              "  width: 100%;\n",
              "  border-bottom: 2px solid var(--sklearn-color-text-on-default-background);\n",
              "  flex-grow: 1;\n",
              "}\n",
              "\n",
              "#sk-container-id-2 div.sk-parallel {\n",
              "  display: flex;\n",
              "  align-items: stretch;\n",
              "  justify-content: center;\n",
              "  background-color: var(--sklearn-color-background);\n",
              "  position: relative;\n",
              "}\n",
              "\n",
              "#sk-container-id-2 div.sk-parallel-item {\n",
              "  display: flex;\n",
              "  flex-direction: column;\n",
              "}\n",
              "\n",
              "#sk-container-id-2 div.sk-parallel-item:first-child::after {\n",
              "  align-self: flex-end;\n",
              "  width: 50%;\n",
              "}\n",
              "\n",
              "#sk-container-id-2 div.sk-parallel-item:last-child::after {\n",
              "  align-self: flex-start;\n",
              "  width: 50%;\n",
              "}\n",
              "\n",
              "#sk-container-id-2 div.sk-parallel-item:only-child::after {\n",
              "  width: 0;\n",
              "}\n",
              "\n",
              "/* Serial-specific style estimator block */\n",
              "\n",
              "#sk-container-id-2 div.sk-serial {\n",
              "  display: flex;\n",
              "  flex-direction: column;\n",
              "  align-items: center;\n",
              "  background-color: var(--sklearn-color-background);\n",
              "  padding-right: 1em;\n",
              "  padding-left: 1em;\n",
              "}\n",
              "\n",
              "\n",
              "/* Toggleable style: style used for estimator/Pipeline/ColumnTransformer box that is\n",
              "clickable and can be expanded/collapsed.\n",
              "- Pipeline and ColumnTransformer use this feature and define the default style\n",
              "- Estimators will overwrite some part of the style using the `sk-estimator` class\n",
              "*/\n",
              "\n",
              "/* Pipeline and ColumnTransformer style (default) */\n",
              "\n",
              "#sk-container-id-2 div.sk-toggleable {\n",
              "  /* Default theme specific background. It is overwritten whether we have a\n",
              "  specific estimator or a Pipeline/ColumnTransformer */\n",
              "  background-color: var(--sklearn-color-background);\n",
              "}\n",
              "\n",
              "/* Toggleable label */\n",
              "#sk-container-id-2 label.sk-toggleable__label {\n",
              "  cursor: pointer;\n",
              "  display: block;\n",
              "  width: 100%;\n",
              "  margin-bottom: 0;\n",
              "  padding: 0.5em;\n",
              "  box-sizing: border-box;\n",
              "  text-align: center;\n",
              "}\n",
              "\n",
              "#sk-container-id-2 label.sk-toggleable__label-arrow:before {\n",
              "  /* Arrow on the left of the label */\n",
              "  content: \"▸\";\n",
              "  float: left;\n",
              "  margin-right: 0.25em;\n",
              "  color: var(--sklearn-color-icon);\n",
              "}\n",
              "\n",
              "#sk-container-id-2 label.sk-toggleable__label-arrow:hover:before {\n",
              "  color: var(--sklearn-color-text);\n",
              "}\n",
              "\n",
              "/* Toggleable content - dropdown */\n",
              "\n",
              "#sk-container-id-2 div.sk-toggleable__content {\n",
              "  max-height: 0;\n",
              "  max-width: 0;\n",
              "  overflow: hidden;\n",
              "  text-align: left;\n",
              "  /* unfitted */\n",
              "  background-color: var(--sklearn-color-unfitted-level-0);\n",
              "}\n",
              "\n",
              "#sk-container-id-2 div.sk-toggleable__content.fitted {\n",
              "  /* fitted */\n",
              "  background-color: var(--sklearn-color-fitted-level-0);\n",
              "}\n",
              "\n",
              "#sk-container-id-2 div.sk-toggleable__content pre {\n",
              "  margin: 0.2em;\n",
              "  border-radius: 0.25em;\n",
              "  color: var(--sklearn-color-text);\n",
              "  /* unfitted */\n",
              "  background-color: var(--sklearn-color-unfitted-level-0);\n",
              "}\n",
              "\n",
              "#sk-container-id-2 div.sk-toggleable__content.fitted pre {\n",
              "  /* unfitted */\n",
              "  background-color: var(--sklearn-color-fitted-level-0);\n",
              "}\n",
              "\n",
              "#sk-container-id-2 input.sk-toggleable__control:checked~div.sk-toggleable__content {\n",
              "  /* Expand drop-down */\n",
              "  max-height: 200px;\n",
              "  max-width: 100%;\n",
              "  overflow: auto;\n",
              "}\n",
              "\n",
              "#sk-container-id-2 input.sk-toggleable__control:checked~label.sk-toggleable__label-arrow:before {\n",
              "  content: \"▾\";\n",
              "}\n",
              "\n",
              "/* Pipeline/ColumnTransformer-specific style */\n",
              "\n",
              "#sk-container-id-2 div.sk-label input.sk-toggleable__control:checked~label.sk-toggleable__label {\n",
              "  color: var(--sklearn-color-text);\n",
              "  background-color: var(--sklearn-color-unfitted-level-2);\n",
              "}\n",
              "\n",
              "#sk-container-id-2 div.sk-label.fitted input.sk-toggleable__control:checked~label.sk-toggleable__label {\n",
              "  background-color: var(--sklearn-color-fitted-level-2);\n",
              "}\n",
              "\n",
              "/* Estimator-specific style */\n",
              "\n",
              "/* Colorize estimator box */\n",
              "#sk-container-id-2 div.sk-estimator input.sk-toggleable__control:checked~label.sk-toggleable__label {\n",
              "  /* unfitted */\n",
              "  background-color: var(--sklearn-color-unfitted-level-2);\n",
              "}\n",
              "\n",
              "#sk-container-id-2 div.sk-estimator.fitted input.sk-toggleable__control:checked~label.sk-toggleable__label {\n",
              "  /* fitted */\n",
              "  background-color: var(--sklearn-color-fitted-level-2);\n",
              "}\n",
              "\n",
              "#sk-container-id-2 div.sk-label label.sk-toggleable__label,\n",
              "#sk-container-id-2 div.sk-label label {\n",
              "  /* The background is the default theme color */\n",
              "  color: var(--sklearn-color-text-on-default-background);\n",
              "}\n",
              "\n",
              "/* On hover, darken the color of the background */\n",
              "#sk-container-id-2 div.sk-label:hover label.sk-toggleable__label {\n",
              "  color: var(--sklearn-color-text);\n",
              "  background-color: var(--sklearn-color-unfitted-level-2);\n",
              "}\n",
              "\n",
              "/* Label box, darken color on hover, fitted */\n",
              "#sk-container-id-2 div.sk-label.fitted:hover label.sk-toggleable__label.fitted {\n",
              "  color: var(--sklearn-color-text);\n",
              "  background-color: var(--sklearn-color-fitted-level-2);\n",
              "}\n",
              "\n",
              "/* Estimator label */\n",
              "\n",
              "#sk-container-id-2 div.sk-label label {\n",
              "  font-family: monospace;\n",
              "  font-weight: bold;\n",
              "  display: inline-block;\n",
              "  line-height: 1.2em;\n",
              "}\n",
              "\n",
              "#sk-container-id-2 div.sk-label-container {\n",
              "  text-align: center;\n",
              "}\n",
              "\n",
              "/* Estimator-specific */\n",
              "#sk-container-id-2 div.sk-estimator {\n",
              "  font-family: monospace;\n",
              "  border: 1px dotted var(--sklearn-color-border-box);\n",
              "  border-radius: 0.25em;\n",
              "  box-sizing: border-box;\n",
              "  margin-bottom: 0.5em;\n",
              "  /* unfitted */\n",
              "  background-color: var(--sklearn-color-unfitted-level-0);\n",
              "}\n",
              "\n",
              "#sk-container-id-2 div.sk-estimator.fitted {\n",
              "  /* fitted */\n",
              "  background-color: var(--sklearn-color-fitted-level-0);\n",
              "}\n",
              "\n",
              "/* on hover */\n",
              "#sk-container-id-2 div.sk-estimator:hover {\n",
              "  /* unfitted */\n",
              "  background-color: var(--sklearn-color-unfitted-level-2);\n",
              "}\n",
              "\n",
              "#sk-container-id-2 div.sk-estimator.fitted:hover {\n",
              "  /* fitted */\n",
              "  background-color: var(--sklearn-color-fitted-level-2);\n",
              "}\n",
              "\n",
              "/* Specification for estimator info (e.g. \"i\" and \"?\") */\n",
              "\n",
              "/* Common style for \"i\" and \"?\" */\n",
              "\n",
              ".sk-estimator-doc-link,\n",
              "a:link.sk-estimator-doc-link,\n",
              "a:visited.sk-estimator-doc-link {\n",
              "  float: right;\n",
              "  font-size: smaller;\n",
              "  line-height: 1em;\n",
              "  font-family: monospace;\n",
              "  background-color: var(--sklearn-color-background);\n",
              "  border-radius: 1em;\n",
              "  height: 1em;\n",
              "  width: 1em;\n",
              "  text-decoration: none !important;\n",
              "  margin-left: 1ex;\n",
              "  /* unfitted */\n",
              "  border: var(--sklearn-color-unfitted-level-1) 1pt solid;\n",
              "  color: var(--sklearn-color-unfitted-level-1);\n",
              "}\n",
              "\n",
              ".sk-estimator-doc-link.fitted,\n",
              "a:link.sk-estimator-doc-link.fitted,\n",
              "a:visited.sk-estimator-doc-link.fitted {\n",
              "  /* fitted */\n",
              "  border: var(--sklearn-color-fitted-level-1) 1pt solid;\n",
              "  color: var(--sklearn-color-fitted-level-1);\n",
              "}\n",
              "\n",
              "/* On hover */\n",
              "div.sk-estimator:hover .sk-estimator-doc-link:hover,\n",
              ".sk-estimator-doc-link:hover,\n",
              "div.sk-label-container:hover .sk-estimator-doc-link:hover,\n",
              ".sk-estimator-doc-link:hover {\n",
              "  /* unfitted */\n",
              "  background-color: var(--sklearn-color-unfitted-level-3);\n",
              "  color: var(--sklearn-color-background);\n",
              "  text-decoration: none;\n",
              "}\n",
              "\n",
              "div.sk-estimator.fitted:hover .sk-estimator-doc-link.fitted:hover,\n",
              ".sk-estimator-doc-link.fitted:hover,\n",
              "div.sk-label-container:hover .sk-estimator-doc-link.fitted:hover,\n",
              ".sk-estimator-doc-link.fitted:hover {\n",
              "  /* fitted */\n",
              "  background-color: var(--sklearn-color-fitted-level-3);\n",
              "  color: var(--sklearn-color-background);\n",
              "  text-decoration: none;\n",
              "}\n",
              "\n",
              "/* Span, style for the box shown on hovering the info icon */\n",
              ".sk-estimator-doc-link span {\n",
              "  display: none;\n",
              "  z-index: 9999;\n",
              "  position: relative;\n",
              "  font-weight: normal;\n",
              "  right: .2ex;\n",
              "  padding: .5ex;\n",
              "  margin: .5ex;\n",
              "  width: min-content;\n",
              "  min-width: 20ex;\n",
              "  max-width: 50ex;\n",
              "  color: var(--sklearn-color-text);\n",
              "  box-shadow: 2pt 2pt 4pt #999;\n",
              "  /* unfitted */\n",
              "  background: var(--sklearn-color-unfitted-level-0);\n",
              "  border: .5pt solid var(--sklearn-color-unfitted-level-3);\n",
              "}\n",
              "\n",
              ".sk-estimator-doc-link.fitted span {\n",
              "  /* fitted */\n",
              "  background: var(--sklearn-color-fitted-level-0);\n",
              "  border: var(--sklearn-color-fitted-level-3);\n",
              "}\n",
              "\n",
              ".sk-estimator-doc-link:hover span {\n",
              "  display: block;\n",
              "}\n",
              "\n",
              "/* \"?\"-specific style due to the `<a>` HTML tag */\n",
              "\n",
              "#sk-container-id-2 a.estimator_doc_link {\n",
              "  float: right;\n",
              "  font-size: 1rem;\n",
              "  line-height: 1em;\n",
              "  font-family: monospace;\n",
              "  background-color: var(--sklearn-color-background);\n",
              "  border-radius: 1rem;\n",
              "  height: 1rem;\n",
              "  width: 1rem;\n",
              "  text-decoration: none;\n",
              "  /* unfitted */\n",
              "  color: var(--sklearn-color-unfitted-level-1);\n",
              "  border: var(--sklearn-color-unfitted-level-1) 1pt solid;\n",
              "}\n",
              "\n",
              "#sk-container-id-2 a.estimator_doc_link.fitted {\n",
              "  /* fitted */\n",
              "  border: var(--sklearn-color-fitted-level-1) 1pt solid;\n",
              "  color: var(--sklearn-color-fitted-level-1);\n",
              "}\n",
              "\n",
              "/* On hover */\n",
              "#sk-container-id-2 a.estimator_doc_link:hover {\n",
              "  /* unfitted */\n",
              "  background-color: var(--sklearn-color-unfitted-level-3);\n",
              "  color: var(--sklearn-color-background);\n",
              "  text-decoration: none;\n",
              "}\n",
              "\n",
              "#sk-container-id-2 a.estimator_doc_link.fitted:hover {\n",
              "  /* fitted */\n",
              "  background-color: var(--sklearn-color-fitted-level-3);\n",
              "}\n",
              "</style><div id=\"sk-container-id-2\" class=\"sk-top-container\"><div class=\"sk-text-repr-fallback\"><pre>XGBRegressor(base_score=None, booster=None, callbacks=None,\n",
              "             colsample_bylevel=None, colsample_bynode=None,\n",
              "             colsample_bytree=None, device=None, early_stopping_rounds=None,\n",
              "             enable_categorical=False, eval_metric=None, feature_types=None,\n",
              "             gamma=None, grow_policy=None, importance_type=None,\n",
              "             interaction_constraints=None, learning_rate=None, max_bin=None,\n",
              "             max_cat_threshold=None, max_cat_to_onehot=None,\n",
              "             max_delta_step=None, max_depth=None, max_leaves=None,\n",
              "             min_child_weight=None, missing=nan, monotone_constraints=None,\n",
              "             multi_strategy=None, n_estimators=10, n_jobs=None,\n",
              "             num_parallel_tree=None, random_state=None, ...)</pre><b>In a Jupyter environment, please rerun this cell to show the HTML representation or trust the notebook. <br />On GitHub, the HTML representation is unable to render, please try loading this page with nbviewer.org.</b></div><div class=\"sk-container\" hidden><div class=\"sk-item\"><div class=\"sk-estimator fitted sk-toggleable\"><input class=\"sk-toggleable__control sk-hidden--visually\" id=\"sk-estimator-id-2\" type=\"checkbox\" checked><label for=\"sk-estimator-id-2\" class=\"sk-toggleable__label fitted sk-toggleable__label-arrow fitted\">&nbsp;XGBRegressor<span class=\"sk-estimator-doc-link fitted\">i<span>Fitted</span></span></label><div class=\"sk-toggleable__content fitted\"><pre>XGBRegressor(base_score=None, booster=None, callbacks=None,\n",
              "             colsample_bylevel=None, colsample_bynode=None,\n",
              "             colsample_bytree=None, device=None, early_stopping_rounds=None,\n",
              "             enable_categorical=False, eval_metric=None, feature_types=None,\n",
              "             gamma=None, grow_policy=None, importance_type=None,\n",
              "             interaction_constraints=None, learning_rate=None, max_bin=None,\n",
              "             max_cat_threshold=None, max_cat_to_onehot=None,\n",
              "             max_delta_step=None, max_depth=None, max_leaves=None,\n",
              "             min_child_weight=None, missing=nan, monotone_constraints=None,\n",
              "             multi_strategy=None, n_estimators=10, n_jobs=None,\n",
              "             num_parallel_tree=None, random_state=None, ...)</pre></div> </div></div></div></div>"
            ],
            "text/plain": [
              "XGBRegressor(base_score=None, booster=None, callbacks=None,\n",
              "             colsample_bylevel=None, colsample_bynode=None,\n",
              "             colsample_bytree=None, device=None, early_stopping_rounds=None,\n",
              "             enable_categorical=False, eval_metric=None, feature_types=None,\n",
              "             gamma=None, grow_policy=None, importance_type=None,\n",
              "             interaction_constraints=None, learning_rate=None, max_bin=None,\n",
              "             max_cat_threshold=None, max_cat_to_onehot=None,\n",
              "             max_delta_step=None, max_depth=None, max_leaves=None,\n",
              "             min_child_weight=None, missing=nan, monotone_constraints=None,\n",
              "             multi_strategy=None, n_estimators=10, n_jobs=None,\n",
              "             num_parallel_tree=None, random_state=None, ...)"
            ]
          },
          "execution_count": 29,
          "metadata": {},
          "output_type": "execute_result"
        }
      ],
      "source": [
        "import xgboost as xg\n",
        "xgb_regressor = xg.XGBRegressor(objective ='reg:squarederror',\n",
        "                  n_estimators = 10, seed = 123)\n",
        "xgb_regressor.fit(X_train, y_train)"
      ]
    },
    {
      "cell_type": "code",
      "execution_count": null,
      "metadata": {
        "colab": {
          "base_uri": "https://localhost:8080/",
          "height": 206
        },
        "id": "LCVu2byRPSQj",
        "outputId": "85233d7f-8f0f-49e5-af20-f54960038f75"
      },
      "outputs": [
        {
          "data": {
            "text/html": [
              "<div>\n",
              "<style scoped>\n",
              "    .dataframe tbody tr th:only-of-type {\n",
              "        vertical-align: middle;\n",
              "    }\n",
              "\n",
              "    .dataframe tbody tr th {\n",
              "        vertical-align: top;\n",
              "    }\n",
              "\n",
              "    .dataframe thead th {\n",
              "        text-align: right;\n",
              "    }\n",
              "</style>\n",
              "<table border=\"1\" class=\"dataframe\">\n",
              "  <thead>\n",
              "    <tr style=\"text-align: right;\">\n",
              "      <th></th>\n",
              "      <th>feature</th>\n",
              "      <th>importance</th>\n",
              "    </tr>\n",
              "  </thead>\n",
              "  <tbody>\n",
              "    <tr>\n",
              "      <th>5</th>\n",
              "      <td>review_taste</td>\n",
              "      <td>0.943152</td>\n",
              "    </tr>\n",
              "    <tr>\n",
              "      <th>4</th>\n",
              "      <td>review_palate</td>\n",
              "      <td>0.028214</td>\n",
              "    </tr>\n",
              "    <tr>\n",
              "      <th>3</th>\n",
              "      <td>review_appearance</td>\n",
              "      <td>0.007122</td>\n",
              "    </tr>\n",
              "    <tr>\n",
              "      <th>6</th>\n",
              "      <td>beer_abv</td>\n",
              "      <td>0.006646</td>\n",
              "    </tr>\n",
              "    <tr>\n",
              "      <th>2</th>\n",
              "      <td>review_aroma</td>\n",
              "      <td>0.005005</td>\n",
              "    </tr>\n",
              "  </tbody>\n",
              "</table>\n",
              "</div>"
            ],
            "text/plain": [
              "             feature  importance\n",
              "5       review_taste    0.943152\n",
              "4      review_palate    0.028214\n",
              "3  review_appearance    0.007122\n",
              "6           beer_abv    0.006646\n",
              "2       review_aroma    0.005005"
            ]
          },
          "execution_count": 30,
          "metadata": {},
          "output_type": "execute_result"
        }
      ],
      "source": [
        "importances = xgb_regressor.feature_importances_\n",
        "feature_names = X_train.columns\n",
        "feature_importance_df = pd.DataFrame({'feature': feature_names, 'importance': importances})\n",
        "feature_importance_df = feature_importance_df.sort_values(by='importance', ascending=False)\n",
        "feature_importance_df.head()"
      ]
    },
    {
      "cell_type": "code",
      "execution_count": null,
      "metadata": {
        "colab": {
          "base_uri": "https://localhost:8080/"
        },
        "id": "sOBF39cVPDBE",
        "outputId": "f5c74851-7143-46cd-d5ae-ada698ed7a94"
      },
      "outputs": [
        {
          "data": {
            "text/plain": [
              "0.6871686986393548"
            ]
          },
          "execution_count": 31,
          "metadata": {},
          "output_type": "execute_result"
        }
      ],
      "source": [
        "xgb_regressor.score(X_train, y_train)"
      ]
    },
    {
      "cell_type": "code",
      "execution_count": null,
      "metadata": {
        "colab": {
          "base_uri": "https://localhost:8080/"
        },
        "id": "Stz8d4YqPGmO",
        "outputId": "935bff45-c620-405b-e523-ddf25dcaabd4"
      },
      "outputs": [
        {
          "data": {
            "text/plain": [
              "0.6873830503947801"
            ]
          },
          "execution_count": 32,
          "metadata": {},
          "output_type": "execute_result"
        }
      ],
      "source": [
        "xgb_regressor.score(X_test, y_test)"
      ]
    },
    {
      "cell_type": "markdown",
      "metadata": {},
      "source": [
        "## Anwser"
      ]
    },
    {
      "cell_type": "markdown",
      "metadata": {},
      "source": [
        "Based on the correlation analysis and results from the Random Forest and XGBoost models, it can be concluded that the quality of beer, measured by the review_overall variable, is most significantly impacted by the review_taste attribute. The correlation between review_overall and review_taste is 0.789816, indicating a strong relationship between these variables. This is further supported by machine learning models, where review_taste has the highest feature importance in both Random Forest (0.628943) and XGBoost (0.943152).\n",
        "\n",
        "Other attributes such as review_palate (mouthfeel) and review_aroma (aroma) also have a notable impact on beer quality, as reflected in their correlations with review_overall (0.701914 and 0.616013, respectively). These attributes are also present in the models, though their importance is significantly lower compared to review_taste.\n",
        "\n",
        "On the other hand, attributes like review_appearance (appearance) and beer_abv (alcohol by volume) have a lesser impact on beer quality, which is consistent with their lower correlation values (0.501732 and 0.138512, respectively) and their lower feature importance scores in the models.\n",
        "\n",
        "In summary, the key factor influencing beer quality is its **taste (review_taste)**, as consistently demonstrated by both correlation analysis and machine learning models. Other factors, such as mouthfeel and aroma, also play a role but to a lesser extent."
      ]
    },
    {
      "cell_type": "markdown",
      "metadata": {
        "id": "_L7x_O14rojo"
      },
      "source": [
        "# 4. I enjoy a beer which aroma and appearance matches the beer style. What beer should I buy ?"
      ]
    },
    {
      "cell_type": "code",
      "execution_count": null,
      "metadata": {
        "colab": {
          "base_uri": "https://localhost:8080/",
          "height": 490
        },
        "id": "b8pnd-Ger75q",
        "outputId": "3424e1d1-fa60-4e99-b8ab-8e64019afa85"
      },
      "outputs": [
        {
          "data": {
            "text/plain": [
              "count          1586614\n",
              "unique             104\n",
              "top       American IPA\n",
              "freq            117586\n",
              "Name: beer_style, dtype: object"
            ]
          },
          "execution_count": 91,
          "metadata": {},
          "output_type": "execute_result"
        }
      ],
      "source": [
        "df['beer_style'].describe()"
      ]
    },
    {
      "cell_type": "code",
      "execution_count": null,
      "metadata": {},
      "outputs": [],
      "source": [
        "threshold = 5\n",
        "\n",
        "# Filter beers where aroma and appearance ratings are above the threshold\n",
        "filtered_beers = df[(df['review_aroma'] >= threshold) & (df['review_appearance'] >= threshold)]\n",
        "\n",
        "# Group by beer_style and calculate the mean appearance and aroma ratings for each style\n",
        "# Also calculate the count of reviews and mean overall rating\n",
        "mean_ratings = filtered_beers.groupby('beer_style').agg({\n",
        "    'review_aroma': 'mean',\n",
        "    'review_appearance': 'mean',\n",
        "    'review_overall': ['mean', 'count']  # Mean overall rating and review count\n",
        "}).reset_index()\n",
        "# Flatten the MultiIndex columns resulting from aggregation\n",
        "mean_ratings.columns = ['beer_style', 'mean_aroma', 'mean_appearance', 'mean_overall', 'review_count']"
      ]
    },
    {
      "cell_type": "code",
      "execution_count": null,
      "metadata": {},
      "outputs": [
        {
          "data": {
            "text/plain": [
              "count     100.000000\n",
              "mean      140.030000\n",
              "std       297.879525\n",
              "min         1.000000\n",
              "25%        14.000000\n",
              "50%        35.000000\n",
              "75%       131.500000\n",
              "max      1705.000000\n",
              "Name: review_count, dtype: float64"
            ]
          },
          "execution_count": 98,
          "metadata": {},
          "output_type": "execute_result"
        }
      ],
      "source": [
        "mean_ratings['review_count'].describe()"
      ]
    },
    {
      "cell_type": "code",
      "execution_count": null,
      "metadata": {},
      "outputs": [
        {
          "name": "stdout",
          "output_type": "stream",
          "text": [
            "Beer Style with Highest Mean Appearance Rating: American Amber / Red Ale\n",
            "Mean Appearance Rating: 5.00\n",
            "Beer Style with Highest Mean Aroma Rating: American Amber / Red Ale\n",
            "Mean Aroma Rating: 5.00\n",
            "Beer Style with Highest Mean Overall Rating: Hefeweizen\n",
            "Mean Overall Rating: 4.86\n"
          ]
        }
      ],
      "source": [
        "# Filter to include only beer styles with review_count >= 132\n",
        "mean_ratings_filtered = mean_ratings[mean_ratings['review_count'] >= 132]\n",
        "\n",
        "# Find the beer style with the highest mean appearance rating\n",
        "best_style_appearance = mean_ratings_filtered.loc[mean_ratings_filtered['mean_appearance'].idxmax()]\n",
        "\n",
        "# Find the beer style with the highest mean aroma rating\n",
        "best_style_aroma = mean_ratings_filtered.loc[mean_ratings_filtered['mean_aroma'].idxmax()]\n",
        "\n",
        "# Find the beer style with the highest mean overall rating\n",
        "best_style_overall = mean_ratings_filtered.loc[mean_ratings_filtered['mean_overall'].idxmax()]\n",
        "\n",
        "# Display the results\n",
        "print(f\"Beer Style with Highest Mean Appearance Rating: {best_style_appearance['beer_style']}\")\n",
        "print(f\"Mean Appearance Rating: {best_style_appearance['mean_appearance']:.2f}\")\n",
        "\n",
        "print(f\"Beer Style with Highest Mean Aroma Rating: {best_style_aroma['beer_style']}\")\n",
        "print(f\"Mean Aroma Rating: {best_style_aroma['mean_aroma']:.2f}\")\n",
        "\n",
        "print(f\"Beer Style with Highest Mean Overall Rating: {best_style_overall['beer_style']}\")\n",
        "print(f\"Mean Overall Rating: {best_style_overall['mean_overall']:.2f}\")"
      ]
    },
    {
      "cell_type": "code",
      "execution_count": null,
      "metadata": {},
      "outputs": [
        {
          "data": {
            "text/html": [
              "<div>\n",
              "<style scoped>\n",
              "    .dataframe tbody tr th:only-of-type {\n",
              "        vertical-align: middle;\n",
              "    }\n",
              "\n",
              "    .dataframe tbody tr th {\n",
              "        vertical-align: top;\n",
              "    }\n",
              "\n",
              "    .dataframe thead th {\n",
              "        text-align: right;\n",
              "    }\n",
              "</style>\n",
              "<table border=\"1\" class=\"dataframe\">\n",
              "  <thead>\n",
              "    <tr style=\"text-align: right;\">\n",
              "      <th></th>\n",
              "      <th>beer_name</th>\n",
              "      <th>mean_aroma</th>\n",
              "      <th>mean_appearance</th>\n",
              "      <th>avg_review_overall</th>\n",
              "      <th>review_count</th>\n",
              "    </tr>\n",
              "  </thead>\n",
              "  <tbody>\n",
              "    <tr>\n",
              "      <th>56</th>\n",
              "      <td>Tröegs Nugget Nectar</td>\n",
              "      <td>5.0</td>\n",
              "      <td>5.0</td>\n",
              "      <td>4.817073</td>\n",
              "      <td>82</td>\n",
              "    </tr>\n",
              "    <tr>\n",
              "      <th>39</th>\n",
              "      <td>Red Rocket Ale</td>\n",
              "      <td>5.0</td>\n",
              "      <td>5.0</td>\n",
              "      <td>4.692308</td>\n",
              "      <td>13</td>\n",
              "    </tr>\n",
              "    <tr>\n",
              "      <th>23</th>\n",
              "      <td>Green Flash Hop Head Red Ale</td>\n",
              "      <td>5.0</td>\n",
              "      <td>5.0</td>\n",
              "      <td>4.500000</td>\n",
              "      <td>8</td>\n",
              "    </tr>\n",
              "    <tr>\n",
              "      <th>46</th>\n",
              "      <td>Santa's Private Reserve Ale</td>\n",
              "      <td>5.0</td>\n",
              "      <td>5.0</td>\n",
              "      <td>4.500000</td>\n",
              "      <td>7</td>\n",
              "    </tr>\n",
              "    <tr>\n",
              "      <th>60</th>\n",
              "      <td>Zoe</td>\n",
              "      <td>5.0</td>\n",
              "      <td>5.0</td>\n",
              "      <td>4.500000</td>\n",
              "      <td>5</td>\n",
              "    </tr>\n",
              "    <tr>\n",
              "      <th>...</th>\n",
              "      <td>...</td>\n",
              "      <td>...</td>\n",
              "      <td>...</td>\n",
              "      <td>...</td>\n",
              "      <td>...</td>\n",
              "    </tr>\n",
              "    <tr>\n",
              "      <th>32</th>\n",
              "      <td>Northwest Red Ale</td>\n",
              "      <td>5.0</td>\n",
              "      <td>5.0</td>\n",
              "      <td>5.000000</td>\n",
              "      <td>1</td>\n",
              "    </tr>\n",
              "    <tr>\n",
              "      <th>33</th>\n",
              "      <td>Pike Pale Heirloom Amber Ale</td>\n",
              "      <td>5.0</td>\n",
              "      <td>5.0</td>\n",
              "      <td>5.000000</td>\n",
              "      <td>1</td>\n",
              "    </tr>\n",
              "    <tr>\n",
              "      <th>10</th>\n",
              "      <td>Big Red (Imperial Red)</td>\n",
              "      <td>5.0</td>\n",
              "      <td>5.0</td>\n",
              "      <td>5.000000</td>\n",
              "      <td>1</td>\n",
              "    </tr>\n",
              "    <tr>\n",
              "      <th>35</th>\n",
              "      <td>Rainmaker</td>\n",
              "      <td>5.0</td>\n",
              "      <td>5.0</td>\n",
              "      <td>5.000000</td>\n",
              "      <td>1</td>\n",
              "    </tr>\n",
              "    <tr>\n",
              "      <th>30</th>\n",
              "      <td>Mettleman Copper Ale</td>\n",
              "      <td>5.0</td>\n",
              "      <td>5.0</td>\n",
              "      <td>5.000000</td>\n",
              "      <td>1</td>\n",
              "    </tr>\n",
              "  </tbody>\n",
              "</table>\n",
              "<p>61 rows × 5 columns</p>\n",
              "</div>"
            ],
            "text/plain": [
              "                       beer_name  mean_aroma  mean_appearance  \\\n",
              "56          Tröegs Nugget Nectar         5.0              5.0   \n",
              "39                Red Rocket Ale         5.0              5.0   \n",
              "23  Green Flash Hop Head Red Ale         5.0              5.0   \n",
              "46   Santa's Private Reserve Ale         5.0              5.0   \n",
              "60                           Zoe         5.0              5.0   \n",
              "..                           ...         ...              ...   \n",
              "32             Northwest Red Ale         5.0              5.0   \n",
              "33  Pike Pale Heirloom Amber Ale         5.0              5.0   \n",
              "10        Big Red (Imperial Red)         5.0              5.0   \n",
              "35                     Rainmaker         5.0              5.0   \n",
              "30          Mettleman Copper Ale         5.0              5.0   \n",
              "\n",
              "    avg_review_overall  review_count  \n",
              "56            4.817073            82  \n",
              "39            4.692308            13  \n",
              "23            4.500000             8  \n",
              "46            4.500000             7  \n",
              "60            4.500000             5  \n",
              "..                 ...           ...  \n",
              "32            5.000000             1  \n",
              "33            5.000000             1  \n",
              "10            5.000000             1  \n",
              "35            5.000000             1  \n",
              "30            5.000000             1  \n",
              "\n",
              "[61 rows x 5 columns]"
            ]
          },
          "execution_count": 101,
          "metadata": {},
          "output_type": "execute_result"
        }
      ],
      "source": [
        "# Filtrujemy piwa o stylu 'Hefeweizen'\n",
        "hefeweizen_beers = filtered_beers[filtered_beers['beer_style'] == 'American Amber / Red Ale']\n",
        "\n",
        "# Grupujemy dane według 'beer_name' i obliczamy średnie wartości oraz liczbę recenzji\n",
        "mean_and_count = hefeweizen_beers.groupby('beer_name').agg(\n",
        "    mean_aroma=('review_aroma', 'mean'),\n",
        "    mean_appearance=('review_appearance', 'mean'),\n",
        "    avg_review_overall=('review_overall', 'mean'),\n",
        "    review_count=('beer_name', 'size')\n",
        ").reset_index()\n",
        "\n",
        "# Sortujemy według liczby recenzji w malejącej kolejności\n",
        "mean_and_count_sorted = mean_and_count.sort_values(by='review_count', ascending=False)\n",
        "\n",
        "# Wyświetlamy wyniki\n",
        "mean_and_count_sorted"
      ]
    },
    {
      "cell_type": "markdown",
      "metadata": {},
      "source": [
        "## Anwser"
      ]
    },
    {
      "cell_type": "markdown",
      "metadata": {},
      "source": [
        "I assumed that both aroma and appearance ratings should be at least 5 to fit the beer style, and that the number of reviews should be 132 or more, which corresponds to 25% of the observations in the dataset.\n",
        "\n",
        "Based on these assumptions, the analysis indicates that the beer style with the highest average appearance and aroma ratings is **American Amber / Red Ale** Within this style, Tröegs Nugget Nectar stands out with the highest number of reviews and a relatively high average rating. It is also noteworthy that other beers in this style have only a few reviews, which may affect the reliability of their average ratings.\n",
        "\n",
        "In summary, if you are looking for beers with high ratings in both aroma and appearance and with a substantial number of reviews, **American Amber / Red Ale** with **Tröegs Nugget Nectar** appears to be the best choice."
      ]
    }
  ],
  "metadata": {
    "colab": {
      "provenance": [],
      "toc_visible": true
    },
    "kernelspec": {
      "display_name": "Python 3",
      "name": "python3"
    },
    "language_info": {
      "codemirror_mode": {
        "name": "ipython",
        "version": 3
      },
      "file_extension": ".py",
      "mimetype": "text/x-python",
      "name": "python",
      "nbconvert_exporter": "python",
      "pygments_lexer": "ipython3",
      "version": "3.11.7"
    }
  },
  "nbformat": 4,
  "nbformat_minor": 0
}
